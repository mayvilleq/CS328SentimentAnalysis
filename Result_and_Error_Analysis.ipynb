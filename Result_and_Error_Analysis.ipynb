{
 "cells": [
  {
   "cell_type": "markdown",
   "metadata": {},
   "source": [
    "# Sentiment Analysis: Results and Error Analysis#"
   ]
  },
  {
   "cell_type": "code",
   "execution_count": 3,
   "metadata": {},
   "outputs": [],
   "source": [
    "import test"
   ]
  },
  {
   "cell_type": "markdown",
   "metadata": {},
   "source": [
    "For each model, we train on data sizes 50, 100, 250, 500, 750, 1000, 2500, 5000, 7500, 10000, 15000, 20000, 25000 and  will test on data size 10,000."
   ]
  },
  {
   "cell_type": "code",
   "execution_count": 6,
   "metadata": {},
   "outputs": [],
   "source": [
    "naive_bayes_trained_output_files = ['trained_bayes_output/trained_bayes_50.json',\n",
    "                                    'trained_bayes_output/trained_bayes_100.json', \n",
    "                                    'trained_bayes_output/trained_bayes_250.json',\n",
    "                                    'trained_bayes_output/trained_bayes_500.json',\n",
    "                                    'trained_bayes_output/trained_bayes_1000.json',\n",
    "                                    'trained_bayes_output/trained_bayes_2500.json',\n",
    "                                    'trained_bayes_output/trained_bayes_5000.json',\n",
    "                                    'trained_bayes_output/trained_bayes_7500.json',\n",
    "                                    'trained_bayes_output/trained_bayes_10000.json',\n",
    "                                    'trained_bayes_output/trained_bayes_15000.json',\n",
    "                                    'trained_bayes_output/trained_bayes_20000.json',\n",
    "                                    'trained_bayes_output/trained_bayes_25000.json',\n",
    "                                   ]\n",
    "conj_trained_output_files = []\n",
    "co_trained_output_files = []\n",
    "\n",
    "indices_for_error_analysis = []\n",
    "test_data_filename = \"yelp_test_sample_10000total_7548pos_2452neg.json\""
   ]
  }
 ],
 "metadata": {
  "kernelspec": {
   "display_name": "Python 3",
   "language": "python",
   "name": "python3"
  },
  "language_info": {
   "codemirror_mode": {
    "name": "ipython",
    "version": 3
   },
   "file_extension": ".py",
   "mimetype": "text/x-python",
   "name": "python",
   "nbconvert_exporter": "python",
   "pygments_lexer": "ipython3",
   "version": "3.5.2"
  }
 },
 "nbformat": 4,
 "nbformat_minor": 2
}
