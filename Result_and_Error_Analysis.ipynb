{
 "cells": [
  {
   "cell_type": "markdown",
   "metadata": {},
   "source": [
    "# Sentiment Analysis: Results and Error Analysis#"
   ]
  },
  {
   "cell_type": "code",
   "execution_count": 3,
   "metadata": {},
   "outputs": [],
   "source": [
    "import test"
   ]
  },
  {
   "cell_type": "markdown",
   "metadata": {},
   "source": [
    "For each model, we train on data sizes 50, 100, 250, 500, 750, 1000, 2500, 5000, 7500, 10000, 15000, 20000, 25000 and  will test on data size 10,000."
   ]
  },
  {
   "cell_type": "code",
   "execution_count": 6,
   "metadata": {},
   "outputs": [],
   "source": [
    "sizes = [50, 100, 250, 500, 750, 1000, 2500, 5000, 7500, 10000, 15000, 20000, 25000]\n",
    "\n",
    "naive_bayes_trained_output_files = []\n",
    "conj_trained_output_files = []\n",
    "co_trained_output_files = []\n",
    "files_to_write = []\n",
    "\n",
    "for size in sizes:\n",
    "    filename = 'trained_bayes_output/trained_bayes_{size}.json'.format(size=size)\n",
    "    naive_bayes_trained_output_files.append(filename)\n",
    "    \n",
    "    filename = 'trained_conjunction_output/trained_conjunction_{size}.json'.format(size=size)\n",
    "    conj_trained_output_files.append(filename)\n",
    "        \n",
    "    filename = 'trained_cooccurrence_output/trained_cooccurrence_{size}.json'.format(size=size)\n",
    "    co_trained_output_files.append(filename)\n",
    "    \n",
    "    filename = 'test_results/{size}.json'.format(size=size)\n",
    "    files_to_write.append(filename)\n",
    "\n",
    "trained_output_files = [naive_bayes_trained_output_files, conj_trained_output_files, co_trained_output_files]\n",
    "test_data_filename = \"yelp_test_sample_10000total_7548pos_2452neg.json\"\n",
    "indices_for_error_analysis = [3, 5, 8]\n",
    "\n",
    "\n",
    "# TODO: Make test_results directory before running\n",
    "test.test(trained_output_files, test_data_filename, files_to_write, indices_for_error_analysis)"
   ]
  },
  {
   "cell_type": "code",
   "execution_count": null,
   "metadata": {},
   "outputs": [],
   "source": []
  }
 ],
 "metadata": {
  "kernelspec": {
   "display_name": "Python 3",
   "language": "python",
   "name": "python3"
  },
  "language_info": {
   "codemirror_mode": {
    "name": "ipython",
    "version": 3
   },
   "file_extension": ".py",
   "mimetype": "text/x-python",
   "name": "python",
   "nbconvert_exporter": "python",
   "pygments_lexer": "ipython3",
   "version": "3.6.4"
  }
 },
 "nbformat": 4,
 "nbformat_minor": 2
}
